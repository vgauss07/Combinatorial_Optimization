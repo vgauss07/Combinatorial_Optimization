{
 "cells": [
  {
   "cell_type": "markdown",
   "source": [
    "## Combinatorial Optimization - Binary Gene Encoding\n",
    "\n",
    "A combinatorial problem is a problem in which we try to find the best combination of some objects or elements that will give the best results\n",
    "   - Combinatorial problems are attacked with Genetic Algorithms since combinatorial problems are tough to solve analytically."
   ],
   "metadata": {
    "collapsed": false
   }
  },
  {
   "cell_type": "markdown",
   "source": [
    "## Knapsack Problem\n",
    "\n",
    "Imagine that you need to pack together a set of items with specific sizes and values into a knapsack / container with a maximum capacity.\n",
    "The problem is to choose a subset of the items of maximum total value that will fit into the knapsack. If the total size of the items exceed the capacity, you can't pack them all.\n",
    "\n",
    "In this case\n",
    "Knapsack Capacity: 15kg\n",
    "Item 1 - Weight = 2kg, Price = $100\n",
    "Item 2 - Weight = 7kg, Price = $50\n",
    "Item 3 - Weight = 3kg, Price = $120\n",
    "Item 4 - Weight = 5kg, Price = $130\n",
    "Item 5 - Weight = 9kg, Price = $220\n",
    "Item 6 - Weight = 10kg, Price = $60\n",
    "\n",
    "Building a Genetic Algorithm  to solve the problem. For a knapsack problem, the following binary gene set encoding:\n",
    "    - 1 - exclude item\n",
    "    - 0 - include item"
   ],
   "metadata": {
    "collapsed": false
   }
  },
  {
   "cell_type": "markdown",
   "source": [
    "## Item definition"
   ],
   "metadata": {
    "collapsed": false
   }
  },
  {
   "cell_type": "code",
   "execution_count": 2,
   "outputs": [],
   "source": [
    "import random\n",
    "\n",
    "\n",
    "class Item:\n",
    "    def __init__(self, name, weight, price) -> None:\n",
    "        self.name = name\n",
    "        self.weight = weight\n",
    "        self.price = price"
   ],
   "metadata": {
    "collapsed": false,
    "ExecuteTime": {
     "end_time": "2023-05-08T09:08:02.386682Z",
     "start_time": "2023-05-08T09:08:02.374203Z"
    }
   }
  },
  {
   "cell_type": "markdown",
   "source": [
    "## Structure of an individual for knapsack problem"
   ],
   "metadata": {
    "collapsed": false
   }
  },
  {
   "cell_type": "code",
   "execution_count": 12,
   "outputs": [],
   "source": [
    "from itertools import compress\n",
    "class Individual:\n",
    "    counter = 0\n",
    "\n",
    "    @classmethod\n",
    "    def set_items(cls, items):\n",
    "        cls.items = items\n",
    "\n",
    "    @classmethod\n",
    "\n",
    "    def set_max_weight(cls, max_weight):\n",
    "        cls.max_weight = max_weight\n",
    "\n",
    "    @classmethod\n",
    "\n",
    "    def create_random(cls):\n",
    "        return Individual([random.choice([0, 1]) for _ in range(len(cls.items))])\n",
    "\n",
    "    def __init__(self, gene_list) -> None:\n",
    "        self.gene_list = gene_list\n",
    "        self.fitness = self.fitness_function()\n",
    "        self.__class__.counter += 1\n",
    "\n",
    "    def total_price(self):\n",
    "        return sum([i.price for i in list(compress(self.__class__.items, self.gene_list))])\n",
    "\n",
    "    def total_weight(self):\n",
    "        return sum([i.weight for i in list(compress(self.__class__.items, self.gene_list))])\n",
    "\n",
    "    def fitness_function(self):\n",
    "        if self.total_weight() > self.__class__.max_weight:\n",
    "            return 0\n",
    "        else:\n",
    "            return self.total_price()\n",
    "\n",
    "    def __str__(self):\n",
    "        return f'gene: {self.gene_list}, price: {self.total_price()}, weight: {self.total_weight()}'\n",
    "\n",
    "    def plot_info(self):\n",
    "        print(f'Included: {[i.name for i in list(compress(self.__class__.items, self.gene_list))]}')\n",
    "        print(f'Fitness: {self.fitness}')\n",
    "        print(f'Price: {self.total_price()}')\n",
    "        print(f'Weight: {self.total_weight()}')"
   ],
   "metadata": {
    "collapsed": false,
    "ExecuteTime": {
     "end_time": "2023-05-08T10:04:27.056487Z",
     "start_time": "2023-05-08T10:04:27.034296Z"
    }
   }
  },
  {
   "cell_type": "markdown",
   "source": [
    "## Generating Random Solution for Knapsack Problem"
   ],
   "metadata": {
    "collapsed": false
   }
  },
  {
   "cell_type": "code",
   "execution_count": 13,
   "outputs": [],
   "source": [
    "import random\n",
    "if __name__ == '__main__':\n",
    "    random.seed(13)\n",
    "\n",
    "    items = [\n",
    "        Item('laptop', 3, 300),\n",
    "        Item('book', 2, 15),\n",
    "        Item('radio', 1, 30),\n",
    "        Item('tv', 6, 230),\n",
    "        Item('potato', 5, 7),\n",
    "        Item('brick', 3, 1),\n",
    "        Item('bottle', 1, 2),\n",
    "        Item('camera', 0.5, 280),\n",
    "        Item('smartphone', 0.1, 500),\n",
    "        Item('picture', 1, 170),\n",
    "        Item('flower', 2, 5),\n",
    "        Item('chair', 3, 4),\n",
    "        Item('watch', 0.05, 500),\n",
    "        Item('boots', 1.5, 30),\n",
    "        Item('radiator', 5, 25),\n",
    "        Item('tablet', 0.5, 450),\n",
    "        Item('printer', 4.5, 170)\n",
    "    ]"
   ],
   "metadata": {
    "collapsed": false,
    "ExecuteTime": {
     "end_time": "2023-05-08T10:04:29.982897Z",
     "start_time": "2023-05-08T10:04:29.974192Z"
    }
   }
  },
  {
   "cell_type": "code",
   "execution_count": 14,
   "outputs": [
    {
     "name": "stdout",
     "output_type": "stream",
     "text": [
      "Included: ['laptop', 'book', 'flower', 'watch', 'tablet']\n",
      "Fitness: 1270\n",
      "Price: 1270\n",
      "Weight: 7.55\n"
     ]
    }
   ],
   "source": [
    "Individual.set_items(items)\n",
    "Individual.set_max_weight(10)\n",
    "\n",
    "ind = Individual.create_random()\n",
    "ind.plot_info()"
   ],
   "metadata": {
    "collapsed": false,
    "ExecuteTime": {
     "end_time": "2023-05-08T10:04:33.291552Z",
     "start_time": "2023-05-08T10:04:33.285746Z"
    }
   }
  },
  {
   "cell_type": "markdown",
   "source": [
    "## Based on the items, their weights, prices and the Knapsack's capacity,\n",
    "#### The result shows that Laptop, Book, Flower, Watch and Tablet are the resultant items that can be put in the Knapsack.\n",
    "#### Fitness: 1270 and Price: 1270."
   ],
   "metadata": {
    "collapsed": false
   }
  },
  {
   "cell_type": "code",
   "execution_count": null,
   "outputs": [],
   "source": [],
   "metadata": {
    "collapsed": false
   }
  }
 ],
 "metadata": {
  "kernelspec": {
   "display_name": "Python 3",
   "language": "python",
   "name": "python3"
  },
  "language_info": {
   "codemirror_mode": {
    "name": "ipython",
    "version": 2
   },
   "file_extension": ".py",
   "mimetype": "text/x-python",
   "name": "python",
   "nbconvert_exporter": "python",
   "pygments_lexer": "ipython2",
   "version": "2.7.6"
  }
 },
 "nbformat": 4,
 "nbformat_minor": 0
}
